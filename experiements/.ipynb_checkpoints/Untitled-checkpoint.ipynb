{
 "cells": [
  {
   "cell_type": "code",
   "execution_count": 3,
   "metadata": {},
   "outputs": [],
   "source": [
    "import os\n",
    "\n",
    " \n",
    "file_list1 = os.listdir('data/inappropriate_mask')\n",
    "file_list2 = os.listdir('data/with_mask')\n",
    "file_list3 = os.listdir('data/without_mask')\n",
    "\n"
   ]
  },
  {
   "cell_type": "code",
   "execution_count": 4,
   "metadata": {},
   "outputs": [],
   "source": [
    "import pandas as pd\n",
    "raw_data = {'col0' : [1, 2, 3, 4],\n",
    "             'col1' : [10, 20, 30, 40],\n",
    "             'col2' : [100, 200, 300, 400]} #리스트 자료형으로 생성\n",
    "raw_data = pd.DataFrame(raw_data) #데이터 프레임으로 전환\n",
    "raw_data.to_excel(excel_writer='sample.xlsx') #엑셀로 저장"
   ]
  },
  {
   "cell_type": "code",
   "execution_count": null,
   "metadata": {},
   "outputs": [],
   "source": []
  }
 ],
 "metadata": {
  "kernelspec": {
   "display_name": "Python 3",
   "language": "python",
   "name": "python3"
  },
  "language_info": {
   "codemirror_mode": {
    "name": "ipython",
    "version": 3
   },
   "file_extension": ".py",
   "mimetype": "text/x-python",
   "name": "python",
   "nbconvert_exporter": "python",
   "pygments_lexer": "ipython3",
   "version": "3.7.6"
  }
 },
 "nbformat": 4,
 "nbformat_minor": 4
}
