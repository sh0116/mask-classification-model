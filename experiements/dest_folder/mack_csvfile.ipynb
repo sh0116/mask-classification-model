{
 "cells": [
  {
   "cell_type": "code",
   "execution_count": 23,
   "metadata": {},
   "outputs": [],
   "source": [
    "import os\n",
    "\n",
    " \n",
    "file_list1 = os.listdir('data/inappropriate_mask')\n",
    "file_list2 = os.listdir('data/with_mask')\n",
    "file_list3 = os.listdir('data/without_mask')\n",
    "\n"
   ]
  },
  {
   "cell_type": "code",
   "execution_count": 33,
   "metadata": {},
   "outputs": [
    {
     "name": "stdout",
     "output_type": "stream",
     "text": [
      "676 690 686\n",
      "676 690 686\n"
     ]
    }
   ],
   "source": [
    "import pandas as pd\n",
    "title = list()\n",
    "tag1 = list()\n",
    "tag2 = list()\n",
    "tag3 = list()\n",
    "\n",
    "\n",
    "for i in file_list1:\n",
    "    tag1.append(\"inappropriate_mask\")\n",
    "for i in file_list2:\n",
    "    tag2.append(\"with_mask\")\n",
    "for i in file_list3:\n",
    "    tag3.append(\"without_mask\")\n",
    "    \n",
    "print(len(file_list1),len(file_list2),len(file_list3))\n",
    "  \n",
    "print(len(tag1),len(tag2),len(tag3))\n",
    "\n",
    "file_listA = file_list1[:540]+file_list2[:552]+file_list3[:548]\n",
    "file_listB = file_list1[540:]+file_list2[552:]+file_list3[548:]\n",
    "\n",
    "tagA = tag1[:540]+tag2[:552]+tag3[:548]\n",
    "tagB = tag1[540:]+tag2[552:]+tag3[548:]\n",
    "\n",
    "raw_data1 = {'filename' : file_listA,\n",
    "             'class' : tagA }\n",
    "raw_data1 = pd.DataFrame(raw_data1) #데이터 프레임으로 전환\n",
    "raw_data1.to_csv('train.csv',mode='w') #엑셀로 저장\n",
    "\n",
    "raw_data2 = {'filename' : file_listB,\n",
    "             'class' : tagB }\n",
    "\n",
    "raw_data2 = pd.DataFrame(raw_data2) #데이터 프레임으로 전환\n",
    "raw_data2.to_csv('test.csv',mode='w') #엑셀로 저장"
   ]
  },
  {
   "cell_type": "code",
   "execution_count": 28,
   "metadata": {},
   "outputs": [],
   "source": [
    "import shutil\n",
    "#필요없음\n",
    "for i in file_list1[:540]:\n",
    "    shutil.copy('data/inappropriate_mask/'+i, \"train/inappropriate_mask\")\n",
    "for i in file_list1[540:]:\n",
    "    shutil.copy('data/inappropriate_mask/'+i, \"test/inappropriate_mask\")\n",
    "    \n",
    "for i in file_list2[:552]:\n",
    "    shutil.copy('data/with_mask/'+i, \"train/with_mask\")\n",
    "for i in file_list2[552:]:\n",
    "    shutil.copy('data/with_mask/'+i, \"test/with_mask\")\n",
    "\n",
    "for i in file_list3[:548]:\n",
    "    shutil.copy('data/without_mask/'+i, \"train/without_mask\")\n",
    "for i in file_list3[548:]:\n",
    "    shutil.copy('data/without_mask/'+i, \"test/without_mask\")"
   ]
  },
  {
   "cell_type": "code",
   "execution_count": null,
   "metadata": {},
   "outputs": [],
   "source": []
  }
 ],
 "metadata": {
  "kernelspec": {
   "display_name": "Python 3",
   "language": "python",
   "name": "python3"
  },
  "language_info": {
   "codemirror_mode": {
    "name": "ipython",
    "version": 3
   },
   "file_extension": ".py",
   "mimetype": "text/x-python",
   "name": "python",
   "nbconvert_exporter": "python",
   "pygments_lexer": "ipython3",
   "version": "3.7.6"
  }
 },
 "nbformat": 4,
 "nbformat_minor": 4
}
